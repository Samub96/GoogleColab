{
  "nbformat": 4,
  "nbformat_minor": 0,
  "metadata": {
    "colab": {
      "provenance": [],
      "include_colab_link": true
    },
    "kernelspec": {
      "name": "python3",
      "display_name": "Python 3"
    },
    "language_info": {
      "name": "python"
    }
  },
  "cells": [
    {
      "cell_type": "markdown",
      "metadata": {
        "id": "view-in-github",
        "colab_type": "text"
      },
      "source": [
        "<a href=\"https://colab.research.google.com/github/Samub96/GoogleColab/blob/develop/An%C3%A1lisis_de_circuitos_en_corriente_directa.ipynb\" target=\"_parent\"><img src=\"https://colab.research.google.com/assets/colab-badge.svg\" alt=\"Open In Colab\"/></a>"
      ]
    },
    {
      "cell_type": "markdown",
      "source": [
        "<img src=https://www.icesi.edu.co/buscar-personas/assets/img/ban-icesi.png width=\"250\" height=\"100\" align=\"center\">\n",
        "\n",
        "\n",
        "-------------------\n",
        "\n",
        "\n",
        "\n",
        "#**<big><big>Análisis de circuitos en corriente directa</big></big><br><small>MATEMATICAS APLICADAS ll</small>**\n",
        "\n",
        "#**Integrantes:**\n",
        "#**<small> <br>SAMUEL BARONA</small>**\n",
        "------\n"
      ],
      "metadata": {
        "id": "GnAleeE9GiIR"
      }
    },
    {
      "cell_type": "markdown",
      "source": [
        "#Indice\n",
        ">1.[Introducción](#p1)\n",
        "\n",
        ">2.[Conceptos Teoricos](#p1-1)\n",
        "\n",
        ">3.[Ley de voltajes de Kirchhoff](#pt)\n",
        "\n",
        ">4.[Ley de corriente de Kirchhoff](#pt2)\n",
        "\n",
        ">5.[Diodos]()\n",
        "\n",
        ">6.[CIrcuito RC]()\n",
        "\n",
        ">>6.1 [Carga de un capacitor]()\n",
        "\n",
        ">>6.2 [Descarga de un capacitor]()\n",
        "\n",
        "\n",
        ">7.[Corriente Directa]()\n",
        "\n",
        ">>7.1 [Circuito Rectificadr de onda completa]()\n",
        "\n",
        ">8.[Teoria de mallas]()\n",
        "\n",
        ">>8.1 [Mallas]()\n",
        "\n",
        ">>8.1 [super Mallas]()\n",
        "\n",
        ">>8.3 [Recurrencia]()\n",
        "\n",
        ">9.[Circuito a analizar]()\n",
        "\n",
        ">>9.1. [Procedimiento]()\n",
        "\n",
        ">10.[Conclusiones](#p3)\n",
        "\n",
        ">11.[Referencias](#p4)\n"
      ],
      "metadata": {
        "id": "GeZ3JtAtNEle"
      }
    },
    {
      "cell_type": "markdown",
      "source": [
        "<a name=\"p1\"></a>\n",
        "#**Introducción**\n",
        "\n",
        "-------"
      ],
      "metadata": {
        "id": "u-jXO9QXMqxu"
      }
    },
    {
      "cell_type": "markdown",
      "source": [
        "En este trabajo se abordará el análisis de circuitos en corriente directa (CD), comenzando\n",
        "con la conversión de corriente alterna (CA) en CD, seguido de la explicación del\n",
        "funcionamiento de un capacitor y sus ecuaciones de carga y descarga. Finalmente, se\n",
        "presentará un ejercicio básico de mallas para demostrar cómo, mediante matrices, se\n",
        "pueden determinar la corriente y el voltaje en un elemento del circuito.\n",
        "\n",
        "\n",
        "\n",
        "\n",
        "\n"
      ],
      "metadata": {
        "id": "w2WpJ31zyX2I"
      }
    },
    {
      "cell_type": "markdown",
      "source": [
        "<a name=\"p1-1\"></a>\n",
        "#Conceptos Teoricos"
      ],
      "metadata": {
        "id": "Pgh5RDI7No8J"
      }
    },
    {
      "cell_type": "markdown",
      "source": [
        "<a name=\"pt\"></a>\n",
        "##**Ley de voltajes de Kirchhoff**\n",
        "------------"
      ],
      "metadata": {
        "id": "SdlSiQo85X78"
      }
    },
    {
      "cell_type": "markdown",
      "source": [
        "La Ley de Voltajes de Kirchhoff (LVK) implica sumar todos los voltajes en un lazo cerrado y establecer esta suma igual a cero. Este proceso permite calcular los voltajes individuales de cada elemento dentro del circuito."
      ],
      "metadata": {
        "id": "cRmFtL9riGK8"
      }
    },
    {
      "cell_type": "markdown",
      "source": [
        "$$\\sum_{k=1}^{n} v_{k}=0$$"
      ],
      "metadata": {
        "id": "_bES6CL5XlIb"
      }
    },
    {
      "cell_type": "markdown",
      "source": [
        "<img src=https://upload.wikimedia.org/wikipedia/commons/thumb/4/40/Kirchhoff_voltage_law.svg/250px-Kirchhoff_voltage_law.svg.png>"
      ],
      "metadata": {
        "id": "8GdDnl2hXzWN"
      }
    },
    {
      "cell_type": "markdown",
      "source": [
        "<a name=\"pt2\"></a>\n",
        "##**Ley de corriente de Kirchhoff**\n",
        "---------------"
      ],
      "metadata": {
        "id": "7wOUTg6E5e8p"
      }
    },
    {
      "cell_type": "markdown",
      "source": [
        "$$\\sum_{k=1}^{n} i_{k}=0$$"
      ],
      "metadata": {
        "id": "3nB4AlzWXgPV"
      }
    },
    {
      "cell_type": "markdown",
      "source": [
        "<img src=https://upload.wikimedia.org/wikipedia/commons/thumb/4/46/KCL_-_Kirchhoff%27s_circuit_laws.svg/250px-KCL_-_Kirchhoff%27s_circuit_laws.svg.png>"
      ],
      "metadata": {
        "id": "jlOU-03Z4knv"
      }
    },
    {
      "cell_type": "markdown",
      "source": [
        "### Diodos"
      ],
      "metadata": {
        "id": "r6PnFygFOODL"
      }
    },
    {
      "cell_type": "markdown",
      "source": [
        "La corriente directa, también conocida como CD o CC, es un tipo de corriente eléctrica que se caracteriza por fluir en una sola dirección."
      ],
      "metadata": {
        "id": "AC_0hg2Mid0M"
      }
    },
    {
      "cell_type": "markdown",
      "source": [
        "![diodo.JPG](data:image/jpeg;base64,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)"
      ],
      "metadata": {
        "id": "xLD5yiBqlvzF"
      }
    },
    {
      "cell_type": "markdown",
      "source": [
        "<img src = https://www.vistronica.com/img/cms/Articulos_Blog/Marzo2020/V03d.gif>\n",
        "<img src = https://www.vistronica.com/img/cms/Articulos_Blog/Marzo2020/V03e.gif>"
      ],
      "metadata": {
        "id": "9p9a4Ea9l8rw"
      }
    },
    {
      "cell_type": "markdown",
      "source": [
        "##**Circuito RC**\n",
        "____"
      ],
      "metadata": {
        "id": "3a27ECuKmO7U"
      }
    },
    {
      "cell_type": "code",
      "source": [
        "#@markdown\n",
        "url ='https://www.falstad.com/circuit/circuitjs.html?ctz=CQAgjCAMB0l3BWcMBMcUHYMGZIA4UA2ATmIxAUgpABZsKBTAWjDACgB3cMFEYw8ISr8onELhp8B2bAJGQxMgTzzjZIFDSoKuSjVrUDMvHYY0ZeKTeZNirk490sXRXVs97uN1hQCdvDi72GvhQyHBsAMYB4DQO1miq2rDwEDDYNHiZxHh4+IQkuGkp7ABuTjFe8mEGSNpQ0AiK6iJ6KqIAzoLCRqHVEABmAIYANh0MbF2aPeKQkv0gw2MTXMFgcTHydtYiiVKum0YGWwAe4nj0YNhIlEhXqg6SAMIAlr6RAK4vAC4A9gA6HQASk82L8QKpCJIqFpSOBoCg6ik4GRCAhCIiwrxVNg2EA'\n",
        "import IPython.display as IP\n",
        "iframe = IP.IFrame(\n",
        "  src=url,\n",
        "  width=\"1020px\",\n",
        "  height=\"480px\"\n",
        "  )\n",
        "IP.display_html(iframe)"
      ],
      "metadata": {
        "colab": {
          "base_uri": "https://localhost:8080/",
          "height": 502
        },
        "cellView": "form",
        "id": "6eeB952PrrrD",
        "outputId": "3463a543-67d2-4229-be24-e6a1167c1d2a"
      },
      "execution_count": null,
      "outputs": [
        {
          "output_type": "display_data",
          "data": {
            "text/html": [
              "\n",
              "        <iframe\n",
              "            width=\"1020px\"\n",
              "            height=\"480px\"\n",
              "            src=\"https://www.falstad.com/circuit/circuitjs.html?ctz=CQAgjCAMB0l3BWcMBMcUHYMGZIA4UA2ATmIxAUgpABZsKBTAWjDACgB3cMFEYw8ISr8onELhp8B2bAJGQxMgTzzjZIFDSoKuSjVrUDMvHYY0ZeKTeZNirk490sXRXVs97uN1hQCdvDi72GvhQyHBsAMYB4DQO1miq2rDwEDDYNHiZxHh4+IQkuGkp7ABuTjFe8mEGSNpQ0AiK6iJ6KqIAzoLCRqHVEABmAIYANh0MbF2aPeKQkv0gw2MTXMFgcTHydtYiiVKum0YGWwAe4nj0YNhIlEhXqg6SAMIAlr6RAK4vAC4A9gA6HQASk82L8QKpCJIqFpSOBoCg6ik4GRCAhCIiwrxVNg2EA\"\n",
              "            frameborder=\"0\"\n",
              "            allowfullscreen\n",
              "            \n",
              "        ></iframe>\n",
              "        "
            ]
          },
          "metadata": {}
        }
      ]
    },
    {
      "cell_type": "markdown",
      "source": [
        "\n",
        "Un circuito RC se encuentra conformado por una resistencia y un capacitor (de ahi viene el nombre RC). Su función principal consta en observar el tiempo que se toma el capacitor para cargarse y el tiempo en que se demora el capacitor en descargarse.\n",
        "\n",
        "Para conocer estos valores es necesario realizar la Ley de voltajes de Kirchhoff :\n",
        "\n",
        "\n",
        "<br>\n"
      ],
      "metadata": {
        "id": "K15N748EtXiw"
      }
    },
    {
      "cell_type": "markdown",
      "source": [
        "Analicemos cuando un capacitor se carga\n",
        "\n",
        "> Suponga que esta trabajando con una fuente $\\varepsilon$, un resistencia $R$ y un capacitor $C$\n",
        "\n",
        "\n",
        "\n",
        "\n",
        "<br>\n",
        "\n",
        "$$V_{\\varepsilon}+V_R+V_C =0$$\n",
        "\n",
        "<br>\n",
        "\n",
        "Donde por concepto de cultura general física\n",
        "\n",
        "<br>\n",
        "\n",
        "$$V_R = IR$$\n",
        "\n",
        "<br>\n",
        "\n",
        "$$V_C= \\frac{q}{c}$$\n",
        "\n",
        "<br>\n",
        "\n",
        "$$I=\\frac{dq}{dt}$$\n",
        "\n",
        "<br>\n",
        "\n",
        "Por lo que, se tiene:\n",
        "\n",
        "\n",
        "$$-\\varepsilon+\\frac{dq}{dt}R+\\frac{q}{c} =0$$\n",
        "\n",
        "<br>\n",
        "\n",
        "A continuación, pasamos todo al otro lado del igual para invertir los signos\n",
        "\n",
        "$$\\varepsilon-\\frac{dq}{dt}R-\\frac{q}{c} =0$$\n",
        "\n",
        "Se realiza el despeje $\\frac{dq}{dt}$, para ello :\n",
        "\n",
        ">Se divide todo por $R$\n",
        "\n",
        "$$\\frac{\\varepsilon}{R}-\\frac{dq}{dt}-\\frac{q}{Rc}=0$$\n",
        "\n",
        "> Se desplaza $\\frac{dq}{dt}$ al otro lado del igual\n",
        "\n",
        "$$\\frac{\\varepsilon}{R}-\\frac{q}{Rc}=\\frac{dq}{dt}$$\n",
        "\n",
        "> Restamos los valores\n",
        "\n",
        "$$\\frac{1}{Rc}(\\varepsilon c -q)=\\frac{dq}{dt}$$\n",
        "\n",
        "Suponga que $q= q_{max}$\n",
        "\n",
        "Por lo tanto, si se iguala a cero la expresión $\\varepsilon c - q_{\\text{max}}$,\n",
        "\n",
        "Se tiene que $$\\varepsilon c =q_{max}$$\n",
        "\n",
        "A continuación, se plantea una ecuación diferencial, también conocida como EDO\n",
        "\n",
        " $$\\frac{1}{Rc}(\\varepsilon c -q)=\\frac{dq}{dt}$$\n",
        "\n",
        " > Se reemplaza $\\varepsilon c$\n",
        "\n",
        " $$\\frac{1}{Rc}(q_{max} -q)=\\frac{dq}{dt}$$\n",
        "\n",
        "\n",
        "> Se distribuyen los diferenciales y se integra :\n",
        "\n",
        "<br>\n",
        "\n",
        " $$\\int_{0}^{t}\\frac{dt}{Rc} = \\int_{0}^{q(t)}\\frac{dq}{q_{max}-q}$$\n",
        "\n",
        " De manera que :\n",
        "\n",
        " <br>\n",
        "\n",
        "$$u=q_{max}-q$$\n",
        "$$du =-dq$$\n",
        "$$-du =dq$$\n",
        "\n",
        "Por lo que :\n",
        "\n",
        "$$\\frac{t}{Rc}\\bigg |^{t}_{0}=\\int_{0}^{q(t)}\\frac{-du}{u}$$\n",
        "\n",
        "<br>\n",
        "\n",
        "$$\\frac{t}{Rc}\\bigg|^{t}_{0}=-ln(u)\\bigg|^{q(t)}_{0}$$\n",
        "\n",
        "> Se reemplaza $u$\n",
        "\n",
        "<br>\n",
        "\n",
        "$$\\frac{-t}{Rc}=-ln(q_{max}-q)\\bigg|^{q(t)}_{0}$$\n",
        "\n",
        "> Se evalua\n",
        "<br>\n",
        "$$\\frac{-t}{Rc}=ln(\\frac{(q_{max}-q(t)}{q_{max}})$$\n",
        "\n",
        "> Para quitar el $ln$ ponemos de base $e$\n",
        "\n",
        "$$e^{\\frac{-t}{Rc}}=(\\frac{(q_{max}-q(t)}{q_{max}})$$\n",
        "<br>\n",
        "> Organizamos la ecuacion y obtenemos finalmente la funcion\n",
        "$$q(t)=q_{max}(1-e^{\\frac{-t}{Rc}})$$\n",
        "\n",
        "Significa el tiempo que se demora el capacitor en cargarse"
      ],
      "metadata": {
        "id": "gFMfLMNSinIr"
      }
    },
    {
      "cell_type": "markdown",
      "source": [
        "Ahora analicemos cuando el capacitor se descarga\n",
        "\n",
        "> Realizamos LVK ahora sin la $\\varepsilon$ ya que en este momento el capacitor se encuentra cargado\n",
        "<br>\n",
        "$$V_R+V_C =0$$\n",
        "<br>\n",
        "$$\\frac{dq}{dt}R+\\frac{q}{c} =0$$\n",
        "<br>\n",
        "$$\\frac{dq}{dt}+\\frac{q}{cR} =0$$\n",
        "<br>\n",
        "$$\\frac{dq}{dt}=-\\frac{q}{cR}$$\n",
        "> Distribuimos los diferenciales\n",
        "$$\\frac{dq}{q}=-\\frac{dt}{cR}$$\n",
        ">integramos  con $q = Q$ en $t = 0$ se obtiene\n",
        "<br>\n",
        "\n",
        "$$∫^{q(t)}_Q\\frac{1}{q}dq=∫_0^t-\\frac{1}{cR}dt$$\n",
        "\n",
        "\n",
        "$$ln(\\frac{q(t)}{Q})=-\\frac{t}{cR}$$\n",
        "$${\\frac{q(t)}{Q}}=e^{-\\frac{t}{cR}}$$\n",
        "> acomodamos la formula y queda tal que\n",
        "$$q(t)=Qe^{-\\frac{t}{cR}}$$"
      ],
      "metadata": {
        "id": "ZkIY90LsPawt"
      }
    },
    {
      "cell_type": "markdown",
      "source": [
        "##Conclucion"
      ],
      "metadata": {
        "id": "lPbqUyD6LCID"
      }
    },
    {
      "cell_type": "markdown",
      "source": [
        "El objetivo de explicar el funcionamiento de un circuito RC, el diodo rectificador y las leyes de Kirchhoff es para introducir el tema del puente rectificador, ya que usando estos elementos y formula podemos convertir corriente alterna en corriente directa\n",
        "<br>\n",
        "Tambien podemos observar que Cuando se descarga el capacitor la corriente esta entrando de forma negativa, eso quiere decir que la direccion de la corriente cambia de direccion"
      ],
      "metadata": {
        "id": "DBZRG1HkTu8R"
      }
    },
    {
      "cell_type": "markdown",
      "source": [
        "##**Corriente directa**\n",
        "-------\n"
      ],
      "metadata": {
        "id": "Mtrk51Z2iEi8"
      }
    },
    {
      "cell_type": "code",
      "source": [
        "#Applet\n",
        "#@markdown\n",
        "import IPython.display as IP\n",
        "iframe = IP.IFrame(\n",
        "  src='https://www.falstad.com/circuit/circuitjs.html?ctz=CQAgjCAMB0l3BWcMBMcUHYMGZIA4UA2ATmIxAUgpABZsKBTAWjDACgAPcMPKy8TEgT0a4QiADCAeQByAHQDOAMQCSAGQAqAJSmcQpYgIF5yYJKLDitAUQkaVqiQEEAIlK2KX1xbJdPF0gCyAApq1hpObABuIBiEeCAoNFRxCWA0olQQhFloUPkwCGwA7sj4tGlg2OI0CZAl3NUVjeKsKFBsACYt3O1gaFlxIPSdDABmAIYArgA2AC5dPUm5cOBDI+PT84tgkBh9Q6xNbcMgo5OzC927+2utVeLLp+dbC6VHj8k92E317w-DY6QBDiH7iP7IW5gQ57dqYdoQ-qraGtJJpIaI2GJKFo7EItgAYwEtTuxIS8IKsEg2WgCAQljwPGBkFwxB+UCp7HeuJR4GwKHR4Ia-RJFKqArxHQATnyJbzxeTblQ6PUuA96Ch+eAaPFEthzGIQDMAPYTTrCpGA1pwBJgjrvYGg46Wu31ZL0fqWYaQCzYDLDXWDAD6hBoQcgQeSxDwQbQ4dg-QQQZYsaD0KD2DY7tivxAeFDIALVBQIbDEajMcsEdQybAqZLmY0sV1TzIrX9ogRsEIPd7ff75CYMDg-J1mpQ6WI8WBCHJtPSZmqaGElGw-WYrA5BmFNuabe1mQa+6eu3KrrYQA',\n",
        "  width=\"1020px\",\n",
        "  height=\"480px\"\n",
        "  )\n",
        "IP.display_html(iframe)"
      ],
      "metadata": {
        "colab": {
          "base_uri": "https://localhost:8080/",
          "height": 502
        },
        "id": "o0qA8o_9CMqs",
        "outputId": "97e1c9a3-49a5-421b-b570-23b2f047011b",
        "cellView": "form"
      },
      "execution_count": null,
      "outputs": [
        {
          "output_type": "display_data",
          "data": {
            "text/html": [
              "\n",
              "        <iframe\n",
              "            width=\"1020px\"\n",
              "            height=\"480px\"\n",
              "            src=\"https://www.falstad.com/circuit/circuitjs.html?ctz=CQAgjCAMB0l3BWcMBMcUHYMGZIA4UA2ATmIxAUgpABZsKBTAWjDACgAPcMPKy8TEgT0a4QiADCAeQByAHQDOAMQCSAGQAqAJSmcQpYgIF5yYJKLDitAUQkaVqiQEEAIlK2KX1xbJdPF0gCyAApq1hpObABuIBiEeCAoNFRxCWA0olQQhFloUPkwCGwA7sj4tGlg2OI0CZAl3NUVjeKsKFBsACYt3O1gaFlxIPSdDABmAIYArgA2AC5dPUm5cOBDI+PT84tgkBh9Q6xNbcMgo5OzC927+2utVeLLp+dbC6VHj8k92E317w-DY6QBDiH7iP7IW5gQ57dqYdoQ-qraGtJJpIaI2GJKFo7EItgAYwEtTuxIS8IKsEg2WgCAQljwPGBkFwxB+UCp7HeuJR4GwKHR4Ia-RJFKqArxHQATnyJbzxeTblQ6PUuA96Ch+eAaPFEthzGIQDMAPYTTrCpGA1pwBJgjrvYGg46Wu31ZL0fqWYaQCzYDLDXWDAD6hBoQcgQeSxDwQbQ4dg-QQQZYsaD0KD2DY7tivxAeFDIALVBQIbDEajMcsEdQybAqZLmY0sV1TzIrX9ogRsEIPd7ff75CYMDg-J1mpQ6WI8WBCHJtPSZmqaGElGw-WYrA5BmFNuabe1mQa+6eu3KrrYQA\"\n",
              "            frameborder=\"0\"\n",
              "            allowfullscreen\n",
              "            \n",
              "        ></iframe>\n",
              "        "
            ]
          },
          "metadata": {}
        }
      ]
    },
    {
      "cell_type": "code",
      "source": [
        "url = 'https://www.geogebra.org/calculator/wrbr8trb'\n",
        "#Applet\n",
        "#@markdown\n",
        "import IPython.display as IP\n",
        "iframe = IP.IFrame(\n",
        "    src=url,\n",
        "  width=\"1020px\",\n",
        "  height=\"480px\"\n",
        "  )\n",
        "IP.display_html(iframe)"
      ],
      "metadata": {
        "colab": {
          "base_uri": "https://localhost:8080/",
          "height": 502
        },
        "cellView": "form",
        "id": "Wb9044XhlJwW",
        "outputId": "9379b124-aa2a-4020-c6fb-6e4e610697eb"
      },
      "execution_count": null,
      "outputs": [
        {
          "output_type": "display_data",
          "data": {
            "text/html": [
              "\n",
              "        <iframe\n",
              "            width=\"1020px\"\n",
              "            height=\"480px\"\n",
              "            src=\"https://www.geogebra.org/calculator/wrbr8trb\"\n",
              "            frameborder=\"0\"\n",
              "            allowfullscreen\n",
              "            \n",
              "        ></iframe>\n",
              "        "
            ]
          },
          "metadata": {}
        }
      ]
    },
    {
      "cell_type": "markdown",
      "source": [
        "Tiempo de carga del capacitor\n",
        "$$q(t)=q_{max}(1-e^{\\frac{-t}{\\tau}})$$\n",
        "$$\\tau = RC =430*(1*10^{-3})=0.43$$\n",
        "\n",
        "\n",
        "\n",
        "> Remplazamos\n",
        "$$q(t)=7.29(1-e^{\\frac{-t}{0.43}})$$\n",
        "\n",
        "Tiempo de descarga\n",
        "$$q(t)=7.29(e^{\\frac{-t}{0.43}})$$\n",
        "\n",
        "Sabemos que la frecuencia de la onda es de $60_{hz}$ entonces remplazamos la formula con $t= 60_{hz} =\\frac{1}{60}$ ya que es 60 veces por segundo.\n",
        "\n",
        "Entonces al remplazar la formula de carga y descarga obtenemos aproximadamente\n",
        "\n",
        "$$q_{carga}(\\frac{1}{60})= 7,0128$$\n",
        "$$q_{descarga}(\\frac{1}{60})= 0.277$$\n",
        "Al restarlos obtenemos un valor aproximado a $6.73$ y eso quiere este será el voltaje que obtendremos \"constante\"\n"
      ],
      "metadata": {
        "id": "TvB0a0KTrTNA"
      }
    },
    {
      "cell_type": "markdown",
      "source": [
        "> calculo de error\n",
        "$$error=\\frac{6.73-6.612}{6.73}*100$$\n",
        "\n",
        "El error fue de $ 1.752$ %"
      ],
      "metadata": {
        "id": "0Xyelw4o0Vvq"
      }
    },
    {
      "cell_type": "markdown",
      "source": [
        "Conclusión\n",
        "---\n",
        "Podemos observar que la diferencia entre carga y descarga nos da un valor muy cercano al valor simulado, eso quiere decir que en el simulador existe un error pequeño de 1.752%"
      ],
      "metadata": {
        "id": "K2Wike2AmiCK"
      }
    },
    {
      "cell_type": "markdown",
      "source": [
        "##**Teoría de mallas**\n",
        "____"
      ],
      "metadata": {
        "id": "CRpcU4A-49mc"
      }
    },
    {
      "cell_type": "markdown",
      "source": [
        "La teoría de mallas es un método fundamental para analizar circuitos eléctricos. Esta técnica se sustenta en las leyes de Kirchhoff y se emplea para calcular con precisión las corrientes y tensiones en cada componente del circuito. El enfoque principal consiste en dividir el circuito en diferentes mallas o lazos, lo que permite aplicar las leyes de Kirchhoff de corrientes (LKC) y voltajes (LVK) de una manera más simplificada."
      ],
      "metadata": {
        "id": "38OUncIrinKy"
      }
    },
    {
      "cell_type": "markdown",
      "source": [
        "<img src=https://upload.wikimedia.org/wikipedia/commons/thumb/7/77/Kirshhoff-example.svg/260px-Kirshhoff-example.svg.png>"
      ],
      "metadata": {
        "id": "r0D4qaKuYB5B"
      }
    },
    {
      "cell_type": "markdown",
      "source": [
        "###**Super mallas**\n",
        "____"
      ],
      "metadata": {
        "id": "XMoewzNzYUUS"
      }
    },
    {
      "cell_type": "markdown",
      "source": [
        "<img src=https://upload.wikimedia.org/wikipedia/commons/c/c0/Mesh_Analysis_Example3.PNG>"
      ],
      "metadata": {
        "id": "FNnptcEzYaP8"
      }
    },
    {
      "cell_type": "markdown",
      "source": [
        "###**Recurrencia**\n",
        "____"
      ],
      "metadata": {
        "id": "GMrnAZApYk7L"
      }
    },
    {
      "cell_type": "markdown",
      "source": [
        ">LCK\n",
        "$$-corriente_{entra}+corriente_{sale} = 0$$"
      ],
      "metadata": {
        "id": "RPcqx_ikPEYH"
      }
    },
    {
      "cell_type": "markdown",
      "source": [
        "#**Circuito para análisis**\n",
        "----"
      ],
      "metadata": {
        "id": "D3YDfgTFYyyd"
      }
    },
    {
      "cell_type": "code",
      "source": [
        "url = 'https://www.falstad.com/circuit/circuitjs.html?ctz=CQAgLCAMB0l3BWEBGGAmOaDsWDMkAONANgE5SsQFIrxcqBTAWmWQCgAnFZNFYm1rzQECUcJ3Cj8EMKLCyxYCclK8wcFKvAKaSrtl7SQuXMWOQINAhPlSEahWGRmB1-Vgd3PYtDYK6FBCwzWx9ICQQeEDQEM0jeZGCxVDYAN2NTPhoYs2cafPABDQKYBDYAS01DDCrjAksQa0qELVNRFuqClIB3bgT+aNisqDZehSNBc0tR8Gcp7SkLEbHSMyN4+fCxuQUVby3a0IMF5eN7E9DQg4311qXrqJyqKKNru4gO4xqDy7nLnRmoVw5yB9xmey+AnepwhuHqh2K4JeS1hYN6qIgx1egMcjn8J2uSVCnyuMxJgVaxFEBxMuQGGzypwZ9KiiRcSKEIj6mzYAA9okkVEhcKxNHIUEhUJAAGo4xYyVY83q0+ZONZg-loYTRbCzJBofDgFC8AAi5Q4DAAxpbygB7AB2AB0AM4AEwYLstto4HHKDHtABcPc6AIbOgCuAFtyq6Qy6mAmAHx86KGlVOSgmUhGqJmi3Wu1Ot3Br0+v2B4NhqMxuPOhNMZP8vCQiXIL70D4gPNWm0Ol3uz3e33+oMuqvR2PxpMpsA4L4fBDC3Wd7sFvvFwdlkeViMT2v1xsC7JkaKkbIeI1oCAASXY-NQhgIkq1dXFV5A198-JFNFwZ4yv6kB20Q3rgKbUPQf5xAaxjkJeN5KHCjQgAAYm2NBMDUNQsCA0q2gANgGIYAOYMGwQA'\n",
        "#Applet\n",
        "#@markdown\n",
        "import IPython.display as IP\n",
        "iframe = IP.IFrame(\n",
        "  src=url,\n",
        "  width=\"1020px\",\n",
        "  height=\"480px\"\n",
        "  )\n",
        "IP.display_html(iframe)"
      ],
      "metadata": {
        "colab": {
          "base_uri": "https://localhost:8080/",
          "height": 502
        },
        "id": "XYOgPpBDpiWn",
        "outputId": "05d27e88-0948-4288-916c-3fb23e7233a1",
        "cellView": "form"
      },
      "execution_count": null,
      "outputs": [
        {
          "output_type": "display_data",
          "data": {
            "text/html": [
              "\n",
              "        <iframe\n",
              "            width=\"1020px\"\n",
              "            height=\"480px\"\n",
              "            src=\"https://www.falstad.com/circuit/circuitjs.html?ctz=CQAgLCAMB0l3BWEBGGAmOaDsWDMkAONANgE5SsQFIrxcqBTAWmWQCgAnFZNFYm1rzQECUcJ3Cj8EMKLCyxYCclK8wcFKvAKaSrtl7SQuXMWOQINAhPlSEahWGRmB1-Vgd3PYtDYK6FBCwzWx9ICQQeEDQEM0jeZGCxVDYAN2NTPhoYs2cafPABDQKYBDYAS01DDCrjAksQa0qELVNRFuqClIB3bgT+aNisqDZehSNBc0tR8Gcp7SkLEbHSMyN4+fCxuQUVby3a0IMF5eN7E9DQg4311qXrqJyqKKNru4gO4xqDy7nLnRmoVw5yB9xmey+AnepwhuHqh2K4JeS1hYN6qIgx1egMcjn8J2uSVCnyuMxJgVaxFEBxMuQGGzypwZ9KiiRcSKEIj6mzYAA9okkVEhcKxNHIUEhUJAAGo4xYyVY83q0+ZONZg-loYTRbCzJBofDgFC8AAi5Q4DAAxpbygB7AB2AB0AM4AEwYLstto4HHKDHtABcPc6AIbOgCuAFtyq6Qy6mAmAHx86KGlVOSgmUhGqJmi3Wu1Ot3Br0+v2B4NhqMxuPOhNMZP8vCQiXIL70D4gPNWm0Ol3uz3e33+oMuqvR2PxpMpsA4L4fBDC3Wd7sFvvFwdlkeViMT2v1xsC7JkaKkbIeI1oCAASXY-NQhgIkq1dXFV5A198-JFNFwZ4yv6kB20Q3rgKbUPQf5xAaxjkJeN5KHCjQgAAYm2NBMDUNQsCA0q2gANgGIYAOYMGwQA\"\n",
              "            frameborder=\"0\"\n",
              "            allowfullscreen\n",
              "            \n",
              "        ></iframe>\n",
              "        "
            ]
          },
          "metadata": {}
        }
      ]
    },
    {
      "cell_type": "markdown",
      "source": [
        "<a name=\"p2\"></a>\n",
        "#**Procedimiento**\n",
        "----\n"
      ],
      "metadata": {
        "id": "bI0i3McfM5dm"
      }
    },
    {
      "cell_type": "markdown",
      "source": [
        "Realizamos LVK en la malla $I_1$\n",
        "\n",
        ">Queda tal que:\n",
        ">$$4I_1+100V+10I_1+8I_1-8I_3=0$$\n",
        ">  $$22I_1-8I_3=-100V$$  "
      ],
      "metadata": {
        "id": "RZi259fhK9eU"
      }
    },
    {
      "cell_type": "markdown",
      "source": [
        "Realizamos LVK supermalla ($I_2,I_3$ )\n",
        "\n",
        "> $$4I_2+8I_3-8I_1+18I_3-18I_4+2I_3=0$$\n",
        "> $$-8I_1+4_2+28I_3-18I_4$$"
      ],
      "metadata": {
        "id": "ORrxJBi7de7j"
      }
    },
    {
      "cell_type": "markdown",
      "source": [
        "Realizamos ecuacion de recurrencia\n",
        ">$$I_2=8A+I_3$$\n",
        ">$$I_2-I_3=8A$$"
      ],
      "metadata": {
        "id": "11FWo4svfl5z"
      }
    },
    {
      "cell_type": "markdown",
      "source": [
        "La malla 4 por tener la fuente de corriente independiente a las demas mallas\n",
        "seria tal que:\n",
        ">$$i_4=-10A$$"
      ],
      "metadata": {
        "id": "gCtz5msKgbCo"
      }
    },
    {
      "cell_type": "markdown",
      "source": [
        "Estas escuaciones se pueden representar como un sistema de ecuaciones $4x4$\n",
        "$$\\begin{bmatrix}\n",
        "22 & 0 & -8 & 0\\\\\n",
        " -8 & 4 & 28 & -18\\\\\n",
        " 0& 1 & -1 &0 \\\\\n",
        " 0& 0 &0  & 1\n",
        "\\end{bmatrix}\\begin{bmatrix}\n",
        "-100\\\\\n",
        "0\\\\\n",
        "8\\\\\n",
        "-10\\\\\n",
        "\\end{bmatrix}$$"
      ],
      "metadata": {
        "id": "lD9FaoyqhY_h"
      }
    },
    {
      "cell_type": "markdown",
      "source": [
        "Procedemos a resolver la matriz con el metodo de Gaus Jordan"
      ],
      "metadata": {
        "id": "HH1kt1Z7kU2h"
      }
    },
    {
      "cell_type": "markdown",
      "source": [
        "$$\\left( \\begin{array}{cccc | c}\n",
        "22 & 0 & -8 & 0 & -100 \\\\\n",
        "-8 & 4 & 28 & -18 & 0 \\\\\n",
        "0 & 1 & -1 & 0 & 8 \\\\\n",
        "0 & 0 & 0 & 1 & -10 \\\\\n",
        "\\end{array} \\right)$$\n",
        "\n",
        "F1 * $\\frac{1}{22}$ -> F1\n"
      ],
      "metadata": {
        "id": "LNQMJCi9qKmH"
      }
    },
    {
      "cell_type": "markdown",
      "source": [
        "$$\\left( \\begin{array}{cccc | c}\n",
        "1 & 0 & \\frac{-4}{11} & 0 & \\frac{-50}{11} \\\\\n",
        "-8 & 4 & 28 & -18 & 0 \\\\\n",
        "0 & 1 & -1 & 0 & 8 \\\\\n",
        "0 & 0 & 0 & 1 & -10 \\\\\n",
        "\\end{array} \\right)$$\n",
        "\n",
        "F2 - (-8) * F1 -> F2\n"
      ],
      "metadata": {
        "id": "nhcBrV6SsW9r"
      }
    },
    {
      "cell_type": "markdown",
      "source": [
        "$$\\left( \\begin{array}{cccc | c}\n",
        "1 & 0 & \\frac{-4}{11} & 0 & \\frac{-50}{11} \\\\\n",
        "0 & 4 & \\frac{276}{11} & -18 & \\frac{-400}{11} \\\\\n",
        "0 & 1 & -1 & 0 & 8 \\\\\n",
        "0 & 0 & 0 & 1 & -10 \\\\\n",
        "\\end{array} \\right)$$\n",
        "\n",
        "F2 * $\\frac{1}{4}$ -> F2\n"
      ],
      "metadata": {
        "id": "ti_PzVmotHly"
      }
    },
    {
      "cell_type": "markdown",
      "source": [
        "$$\\left( \\begin{array}{cccc | c}\n",
        "1 & 0 & \\frac{-4}{11} & 0 & \\frac{-50}{11} \\\\\n",
        "0 & 1 & \\frac{69}{11} & \\frac{-9}{2} & \\frac{-100}{11} \\\\\n",
        "0 & 1 & -1 & 0 & 8 \\\\\n",
        "0 & 0 & 0 & 1 & -10 \\\\\n",
        "\\end{array} \\right)$$\n",
        "\n",
        "F3 * -1 * F2 -> F3\n"
      ],
      "metadata": {
        "id": "k8DpKFiguB5V"
      }
    },
    {
      "cell_type": "markdown",
      "source": [
        "$$\\left( \\begin{array}{cccc | c}\n",
        "1 & 0 & \\frac{-4}{11} & 0 & \\frac{-50}{11} \\\\\n",
        "0 & 1 & \\frac{69}{11} & \\frac{-9}{2} & \\frac{-100}{11} \\\\\n",
        "0 & 0 & \\frac{-80}{11} & \\frac{9}{2} & \\frac{188}{11} \\\\\n",
        "0 & 0 & 0 & 1 & -10 \\\\\n",
        "\\end{array} \\right)$$\n",
        "\n",
        "$\\frac{F3}{\\frac{-80}{11}}$ -> F3\n"
      ],
      "metadata": {
        "id": "jJtoCEOAu2jV"
      }
    },
    {
      "cell_type": "markdown",
      "source": [
        "$$\\left( \\begin{array}{cccc | c}\n",
        "1 & 0 & \\frac{-4}{11} & 0 & \\frac{-50}{11} \\\\\n",
        "0 & 1 & \\frac{69}{11} & \\frac{-9}{2} & \\frac{-100}{11} \\\\\n",
        "0 & 0 & 1 & \\frac{-99}{160} & \\frac{-47}{20} \\\\\n",
        "0 & 0 & 0 & 1 & -10 \\\\\n",
        "\\end{array} \\right)$$\n",
        "\n",
        "F3 - $\\frac{-99}{160}$ * F4 -> F3\n"
      ],
      "metadata": {
        "id": "jDNLsc9fwY7S"
      }
    },
    {
      "cell_type": "markdown",
      "source": [
        "$$\\left( \\begin{array}{cccc | c}\n",
        "1 & 0 & \\frac{-4}{11} & 0 & \\frac{-50}{11} \\\\\n",
        "0 & 1 & \\frac{69}{11} & \\frac{-9}{2} & \\frac{-100}{11} \\\\\n",
        "0 & 0 & 1 & 0 & \\frac{-683}{80} \\\\\n",
        "0 & 0 & 0 & 1 & -10 \\\\\n",
        "\\end{array} \\right)$$\n",
        "\n",
        "F2 - $\\frac{-9}{2}$ * F4 -> F2\n"
      ],
      "metadata": {
        "id": "KY-arIrgxbWx"
      }
    },
    {
      "cell_type": "markdown",
      "source": [
        "$$\\left( \\begin{array}{cccc | c}\n",
        "1 & 0 & \\frac{-4}{11} & 0 & \\frac{-50}{11} \\\\\n",
        "0 & 1 & \\frac{69}{11} & 0 & \\frac{-595}{11} \\\\\n",
        "0 & 0 & 1 & 0 & \\frac{-683}{80} \\\\\n",
        "0 & 0 & 0 & 1 & -10 \\\\\n",
        "\\end{array} \\right)$$\n",
        "\n",
        "F2 - $\\frac{69}{11}$ * F3 -> F2\n"
      ],
      "metadata": {
        "id": "sXMgwmLqysTk"
      }
    },
    {
      "cell_type": "markdown",
      "source": [
        "$$\\left( \\begin{array}{cccc | c}\n",
        "1 & 0 & \\frac{-4}{11} & 0 & \\frac{-50}{11} \\\\\n",
        "0 & 1 & 0 & 0 & \\frac{-43}{80} \\\\\n",
        "0 & 0 & 1 & 0 & \\frac{-683}{80} \\\\\n",
        "0 & 0 & 0 & 1 & -10 \\\\\n",
        "\\end{array} \\right)$$\n",
        "\n",
        "F1 - $\\frac{-4}{11}$ * F3 -> F1\n"
      ],
      "metadata": {
        "id": "WVpicB6XzUnj"
      }
    },
    {
      "cell_type": "markdown",
      "source": [
        "$$\\left( \\begin{array}{cccc | c}\n",
        "1 & 0 & 0 & 0 & \\frac{-153}{20} \\\\\n",
        "0 & 1 & 0 & 0 & \\frac{-43}{80} \\\\\n",
        "0 & 0 & 1 & 0 & \\frac{-683}{80} \\\\\n",
        "0 & 0 & 0 & 1 & -10 \\\\\n",
        "\\end{array} \\right)$$\n",
        "\n",
        "\n"
      ],
      "metadata": {
        "id": "8DkBdzGJzoLK"
      }
    },
    {
      "cell_type": "markdown",
      "source": [
        "$$I1 = \\frac{-153}{20} =  -7.65 $$\n",
        "\n",
        "$$I2 = \\frac{-43}{80} \\cong -0.5375 $$\n",
        "\n",
        "$$I3 = \\frac{-683}{80} \\cong -8.5375$$\n",
        "\n",
        "$$I4 = -10$$\n"
      ],
      "metadata": {
        "id": "efpZ7SVzzzxY"
      }
    },
    {
      "cell_type": "markdown",
      "source": [
        "Validamos con el Phyton los resultados"
      ],
      "metadata": {
        "id": "jyP7rauYTPU-"
      }
    },
    {
      "cell_type": "code",
      "source": [
        "def gauss_jordan(A, b):\n",
        "    n = len(A)\n",
        "\n",
        "    # Concatenar la matriz A con el vector b\n",
        "    for i in range(n):\n",
        "        A[i].append(b[i])\n",
        "\n",
        "    # Eliminación hacia adelante\n",
        "    for i in range(n):\n",
        "        # Pivote\n",
        "        pivot = A[i][i]\n",
        "        for j in range(i, n + 1):\n",
        "            A[i][j] /= pivot\n",
        "\n",
        "        # Restar múltiplos de la fila actual para hacer ceros debajo del pivote\n",
        "        for k in range(n):\n",
        "            if k != i:\n",
        "                factor = A[k][i]\n",
        "                for j in range(i, n + 1):\n",
        "                    A[k][j] -= factor * A[i][j]\n",
        "\n",
        "    # Retroceder para obtener la solución\n",
        "    x = [0] * n\n",
        "    for i in range(n - 1, -1, -1):\n",
        "        x[i] = A[i][n]\n",
        "        for j in range(i + 1, n):\n",
        "            x[i] -= A[i][j] * x[j]\n",
        "\n",
        "    return x\n",
        "\n",
        "\n",
        "A = [[22,0,-8,0],\n",
        "     [-8,4,28,-18],\n",
        "     [0,1,-1,0],\n",
        "     [0,0,0,1]]\n",
        "b = [-100,0,8,-10]\n",
        "\n",
        "solucion = gauss_jordan(A, b)\n",
        "print(\"Solución:\", solucion)\n"
      ],
      "metadata": {
        "colab": {
          "base_uri": "https://localhost:8080/"
        },
        "id": "l670bvuvMbNz",
        "outputId": "16a97f3e-f0c7-4f26-e074-3b47dd824d5a"
      },
      "execution_count": null,
      "outputs": [
        {
          "output_type": "stream",
          "name": "stdout",
          "text": [
            "Solución: [-7.65, -0.537499999999997, -8.537500000000001, -10.0]\n"
          ]
        }
      ]
    },
    {
      "cell_type": "markdown",
      "source": [
        "<a name=\"p3\"></a>\n",
        "#**Conclusiones**\n",
        "-----"
      ],
      "metadata": {
        "id": "OyuVm2XJNCEc"
      }
    },
    {
      "cell_type": "markdown",
      "source": [
        "> EL resultado nos da un valor negativo, eso quiere decir que la direccion que asumimos no es la correcta, la corriente viaja en direccion contraria a la asumida.\n",
        "\n",
        "> si queremos calcular las resistencias en la que comparte mallas, es necesario realizar otro calculo extra\n",
        "\n",
        "Finalmente podemos observar que los valores concuerdan con lo simulado."
      ],
      "metadata": {
        "id": "OusnjNdkZXnO"
      }
    },
    {
      "cell_type": "markdown",
      "source": [
        "<a name=\"p4\"></a>\n",
        "#**Referencias**\n",
        "----\n",
        "* https://circuitoselectricos306776877.wordpress.com/unidad-4/\n",
        "* https://es.wikipedia.org/wiki/An%C3%A1lisis_de_mallas\n",
        "* https://colab.research.google.com/drive/19-QM0OauCdjtUGIWu6wq0YbbqLpYJBTa?usp=sharing#scrollTo=wUmYBcPTJA0I"
      ],
      "metadata": {
        "id": "pHeFBj4wQPQd"
      }
    }
  ]
}